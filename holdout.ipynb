{
 "cells": [
  {
   "cell_type": "markdown",
   "metadata": {},
   "source": [
    "In this Jupyter notebook, we will do the final holdout to both M5 challenges, and we will study the several ARIMA model that we did. Mainly, we will see what variables did we use and how many model with just zeroes we have. "
   ]
  },
  {
   "cell_type": "code",
   "execution_count": 1,
   "metadata": {},
   "outputs": [],
   "source": [
    "import time\n",
    "import pandas as pd\n",
    "import numpy as np\n",
    "import re\n",
    "import matplotlib.pyplot as plt\n",
    "from matplotlib.ticker import MaxNLocator\n",
    "%matplotlib inline"
   ]
  },
  {
   "cell_type": "code",
   "execution_count": 25,
   "metadata": {},
   "outputs": [],
   "source": [
    "path_holdout = 'C:\\\\Users\\\\maxwi\\\\Python\\\\Kaggle\\\\M5 Forecasting - Accuracy\\\\Modelo 1\\\\model\\\\result\\\\holdout_by_id\\\\'\n",
    "path_summary = 'C:\\\\Users\\\\maxwi\\\\Python\\\\Kaggle\\\\M5 Forecasting - Accuracy\\\\Modelo 1\\\\model\\\\result\\\\summary_by_id\\\\'\n",
    "\n",
    "sales_train_validation = pd.read_csv('sales_train_validation.csv') #Only used to take the products ids.\n",
    "products_ids = sales_train_validation['id'].unique()\n",
    "products_ids_size = len(products_ids)\n",
    "del sales_train_validation"
   ]
  },
  {
   "cell_type": "code",
   "execution_count": 26,
   "metadata": {},
   "outputs": [
    {
     "name": "stdout",
     "output_type": "stream",
     "text": [
      "0.0328\n",
      "Elapsed: 00:00:22\n",
      "Total run time: 00:11:11\n",
      "Time to finish: 00:10:49\n",
      "\n",
      "0.0656\n",
      "Elapsed: 00:00:49\n",
      "Total run time: 00:12:27\n",
      "Time to finish: 00:11:38\n",
      "\n",
      "0.0984\n",
      "Elapsed: 00:01:20\n",
      "Total run time: 00:13:33\n",
      "Time to finish: 00:12:13\n",
      "\n",
      "0.1312\n",
      "Elapsed: 00:01:57\n",
      "Total run time: 00:14:52\n",
      "Time to finish: 00:12:55\n",
      "\n",
      "0.164\n",
      "Elapsed: 00:02:37\n",
      "Total run time: 00:15:57\n",
      "Time to finish: 00:13:20\n",
      "\n",
      "0.1968\n",
      "Elapsed: 00:03:20\n",
      "Total run time: 00:16:56\n",
      "Time to finish: 00:13:36\n",
      "\n",
      "0.2296\n",
      "Elapsed: 00:04:08\n",
      "Total run time: 00:18:00\n",
      "Time to finish: 00:13:52\n",
      "\n",
      "0.2624\n",
      "Elapsed: 00:04:58\n",
      "Total run time: 00:18:56\n",
      "Time to finish: 00:13:58\n",
      "\n",
      "0.2952\n",
      "Elapsed: 00:05:53\n",
      "Total run time: 00:19:56\n",
      "Time to finish: 00:14:03\n",
      "\n",
      "0.328\n",
      "Elapsed: 00:06:52\n",
      "Total run time: 00:20:56\n",
      "Time to finish: 00:14:04\n",
      "\n",
      "0.3608\n",
      "Elapsed: 00:07:54\n",
      "Total run time: 00:21:54\n",
      "Time to finish: 00:14:00\n",
      "\n",
      "0.3936\n",
      "Elapsed: 00:08:59\n",
      "Total run time: 00:22:49\n",
      "Time to finish: 00:13:50\n",
      "\n",
      "0.4264\n",
      "Elapsed: 00:10:08\n",
      "Total run time: 00:23:46\n",
      "Time to finish: 00:13:38\n",
      "\n",
      "0.4592\n",
      "Elapsed: 00:11:21\n",
      "Total run time: 00:24:43\n",
      "Time to finish: 00:13:22\n",
      "\n",
      "0.492\n",
      "Elapsed: 00:12:39\n",
      "Total run time: 00:25:43\n",
      "Time to finish: 00:13:04\n",
      "\n",
      "0.5248\n",
      "Elapsed: 00:13:59\n",
      "Total run time: 00:26:39\n",
      "Time to finish: 00:12:40\n",
      "\n",
      "0.5576\n",
      "Elapsed: 00:15:24\n",
      "Total run time: 00:27:37\n",
      "Time to finish: 00:12:13\n",
      "\n",
      "0.5904\n",
      "Elapsed: 00:16:52\n",
      "Total run time: 00:28:34\n",
      "Time to finish: 00:11:42\n",
      "\n",
      "0.6232\n",
      "Elapsed: 00:18:23\n",
      "Total run time: 00:29:30\n",
      "Time to finish: 00:11:07\n",
      "\n",
      "0.656\n",
      "Elapsed: 00:20:00\n",
      "Total run time: 00:30:29\n",
      "Time to finish: 00:10:29\n",
      "\n",
      "0.6888\n",
      "Elapsed: 00:21:42\n",
      "Total run time: 00:31:30\n",
      "Time to finish: 00:09:48\n",
      "\n",
      "0.7215\n",
      "Elapsed: 00:23:26\n",
      "Total run time: 00:32:29\n",
      "Time to finish: 00:09:03\n",
      "\n",
      "0.7543\n",
      "Elapsed: 00:25:13\n",
      "Total run time: 00:33:26\n",
      "Time to finish: 00:08:13\n",
      "\n",
      "0.7871\n",
      "Elapsed: 00:27:05\n",
      "Total run time: 00:34:25\n",
      "Time to finish: 00:07:20\n",
      "\n",
      "0.8199\n",
      "Elapsed: 00:28:59\n",
      "Total run time: 00:35:21\n",
      "Time to finish: 00:06:22\n",
      "\n",
      "0.8527\n",
      "Elapsed: 00:30:58\n",
      "Total run time: 00:36:19\n",
      "Time to finish: 00:05:21\n",
      "\n",
      "0.8855\n",
      "Elapsed: 00:33:00\n",
      "Total run time: 00:37:16\n",
      "Time to finish: 00:04:16\n",
      "\n",
      "0.9183\n",
      "Elapsed: 00:35:06\n",
      "Total run time: 00:38:13\n",
      "Time to finish: 00:03:07\n",
      "\n",
      "0.9511\n",
      "Elapsed: 00:37:15\n",
      "Total run time: 00:39:10\n",
      "Time to finish: 00:01:55\n",
      "\n",
      "0.9839\n",
      "Elapsed: 00:39:29\n",
      "Total run time: 00:40:08\n",
      "Time to finish: 00:00:39\n",
      "\n"
     ]
    }
   ],
   "source": [
    "#Make the final summary and holdout to M5 Forecast Accuracy \n",
    "\n",
    "stoped_at = products_ids[0]  #  Used to continue the code from the last product saved. For safety, we will run the last product saved again.\n",
    "\n",
    "holdout_accuracy = pd.read_hdf(path_holdout + stoped_at + '.h5')\n",
    "summary = pd.read_hdf(path_summary + stoped_at + '.h5')\n",
    "\n",
    "progress = 0  #Usefull to see the progress of the code. \n",
    "progress_1000 = 1\n",
    "start = time.time()\n",
    "\n",
    "for product in products_ids[1:]:\n",
    "    holdout_accuracy_aux = pd.read_hdf(path_holdout + product + '.h5')\n",
    "    summary_aux = pd.read_hdf(path_summary + product + '.h5')\n",
    "    \n",
    "    holdout_accuracy = pd.concat([holdout_accuracy, holdout_accuracy_aux], ignore_index=True)\n",
    "    summary = pd.concat([summary, summary_aux], ignore_index=True)\n",
    "\n",
    "    progress += 1\n",
    "    if progress == progress_1000 * 1000:\n",
    "\n",
    "        progress_per = round(progress / products_ids_size, 4)\n",
    "        print(progress_per)\n",
    "        progress_1000 +=1\n",
    "        \n",
    "        end = time.time()\n",
    "        elapsed = int(round(end - start, 0))\n",
    "        total_run_time =  int(round(elapsed / (progress_per), 0))\n",
    "        time_to_finish = int(round(elapsed / (progress_per), 0)) - elapsed\n",
    "        print('Elapsed: {:02d}:{:02d}:{:02d}'.format(elapsed // 3600, (elapsed % 3600 // 60), elapsed % 60))\n",
    "        print('Total run time: {:02d}:{:02d}:{:02d}'.format(total_run_time // 3600, (total_run_time % 3600 // 60), total_run_time % 60))\n",
    "        print('Time to finish: {:02d}:{:02d}:{:02d}'.format(time_to_finish // 3600, (time_to_finish % 3600 // 60), time_to_finish % 60))\n",
    "        print()\n",
    "\n",
    "holdout_accuracy.to_hdf('holdout_accuracy.h5', key = product, mode = 'w')\n",
    "summary.to_hdf('summary.h5', key = product, mode = 'w')"
   ]
  },
  {
   "cell_type": "code",
   "execution_count": 34,
   "metadata": {},
   "outputs": [],
   "source": [
    "holdout_accuracy.columns = ['id', 'F1', 'F2', 'F3', 'F4', 'F5', 'F6', 'F7', 'F8', 'F9', 'F10', 'F11', 'F12', 'F13', 'F14'\n",
    "                           , 'F15', 'F16', 'F17', 'F18', 'F19', 'F20', 'F21', 'F22', 'F23', 'F24', 'F25', 'F26', 'F27', 'F28']\n",
    "holdout_accuracy.to_csv(\"holdout_accuracy.csv\", index=False)"
   ]
  },
  {
   "cell_type": "markdown",
   "metadata": {},
   "source": [
    "Using one ARIMA per product, we obtained a score of 3.92318.\n",
    "Probably, the biggest problem of our model was the automatization of the parameters 'p' an 'q' in the ARIMA model.\n",
    "Not only did we not use any otimization algorithm to set these parameters, but we also received a lot of warnings saying that our 'p' and 'q' were not optimal (we can see that by the variable error_fit in our summary)."
   ]
  },
  {
   "cell_type": "code",
   "execution_count": 85,
   "metadata": {},
   "outputs": [
    {
     "name": "stdout",
     "output_type": "stream",
     "text": [
      "0.1674\n"
     ]
    }
   ],
   "source": [
    "variables_used = summary.drop('product', axis = 1).sum()\n",
    "print(round(variables_used['error_fit'] / len(products_ids), 4))"
   ]
  },
  {
   "cell_type": "markdown",
   "metadata": {},
   "source": [
    "In 16.74% of our ARIMA models, we had a problem when calculating the betas and were forced to set some initial parameters.\n",
    "However, this indicate that we could not minimize the error of our betas.\n",
    "\n",
    "One easy way to fix this problem would be to use some algorithm to automatically choose the parameters of the ARIMA model. Nevertheless, this is pratically impossible to do with only a personal computer because it would be time consuming."
   ]
  },
  {
   "cell_type": "code",
   "execution_count": 88,
   "metadata": {},
   "outputs": [
    {
     "data": {
      "text/plain": [
       "q_parameter                        0.000000e+00\n",
       "i_parameter                        0.000000e+00\n",
       "p_parameter                        0.000000e+00\n",
       "price_change_max_t52_bin_0.25++    2.200000e+01\n",
       "price_change_max_t26_bin_0.25++    2.300000e+01\n",
       "                                       ...     \n",
       "sum_forecast                       7.252540e+05\n",
       "number_of_observation_forecast     1.707440e+06\n",
       "number_of_observation_train        4.602796e+07\n",
       "sum_train                          6.569541e+07\n",
       "AIC                                1.337783e+08\n",
       "Length: 250, dtype: float64"
      ]
     },
     "execution_count": 88,
     "metadata": {},
     "output_type": "execute_result"
    }
   ],
   "source": [
    "variables_used.sort_values()"
   ]
  },
  {
   "cell_type": "code",
   "execution_count": 105,
   "metadata": {},
   "outputs": [
    {
     "data": {
      "text/plain": [
       "season_4                    2058.000000\n",
       "month_11                    2074.000000\n",
       "month_10                    2125.000000\n",
       "month_9                     2127.000000\n",
       "demand_rolling_std_t90      2133.000000\n",
       "wday_7                      2196.000000\n",
       "demand_rolling_skew_t30     2213.000000\n",
       "month_fase_1                2225.000000\n",
       "season_1                    2237.000000\n",
       "demand_rolling_std_t7       2256.000000\n",
       "season_2                    2261.000000\n",
       "wday_2                      2836.000000\n",
       "wday_1                      2879.000000\n",
       "wday_3                      3078.000000\n",
       "snap                        3381.000000\n",
       "month_fase_3                3435.000000\n",
       "wday_6                      3454.000000\n",
       "week_fase_3                 3543.000000\n",
       "demand_rolling_std_t365     3580.000000\n",
       "wday_4                      4124.000000\n",
       "demand_rolling_std_t30      4196.000000\n",
       "error_fit                   5104.000000\n",
       "std_test                    8572.603732\n",
       "week_fase_1                10722.000000\n",
       "dtype: float64"
      ]
     },
     "execution_count": 105,
     "metadata": {},
     "output_type": "execute_result"
    }
   ],
   "source": [
    "#Most used variables\n",
    "variables_used[(variables_used > 2000) &(variables_used < 11000)].sort_values()\n"
   ]
  },
  {
   "cell_type": "code",
   "execution_count": 98,
   "metadata": {},
   "outputs": [
    {
     "data": {
      "text/plain": [
       "Sporting                                270.0\n",
       "Sporting_near                           294.0\n",
       "price_change_t1_bin_--0.25              218.0\n",
       "price_change_t1_bin_-0.25-0.10          190.0\n",
       "price_change_t1_bin_-0.10-0.5           139.0\n",
       "price_change_t1_bin_-0.05-0             234.0\n",
       "price_change_t1_bin_0.05-0.10           124.0\n",
       "price_change_t1_bin_0.10-0.25           140.0\n",
       "price_change_t1_bin_0.25++               32.0\n",
       "price_change_max_t4_bin_--0.25          143.0\n",
       "price_change_max_t4_bin_-0.25-0.10      118.0\n",
       "price_change_max_t4_bin_-0.10-0.5        80.0\n",
       "price_change_max_t4_bin_-0.05-0         131.0\n",
       "price_change_max_t4_bin_0.05-0.10       150.0\n",
       "price_change_max_t4_bin_0.10-0.25       170.0\n",
       "price_change_max_t4_bin_0.25++          117.0\n",
       "price_change_max_t13_bin_--0.25         114.0\n",
       "price_change_max_t13_bin_-0.25-0.10     114.0\n",
       "price_change_max_t13_bin_-0.10-0.5       70.0\n",
       "price_change_max_t13_bin_-0.05-0         82.0\n",
       "price_change_max_t13_bin_0.05-0.10      146.0\n",
       "price_change_max_t13_bin_0.10-0.25      159.0\n",
       "price_change_max_t13_bin_0.25++          41.0\n",
       "price_change_max_t26_bin_--0.25         155.0\n",
       "price_change_max_t26_bin_-0.25-0.10     114.0\n",
       "price_change_max_t26_bin_-0.10-0.5       89.0\n",
       "price_change_max_t26_bin_-0.05-0        102.0\n",
       "price_change_max_t26_bin_0.05-0.10      152.0\n",
       "price_change_max_t26_bin_0.10-0.25      166.0\n",
       "price_change_max_t26_bin_0.25++          23.0\n",
       "price_change_max_t52_bin_--0.25         231.0\n",
       "price_change_max_t52_bin_-0.10-0.5      257.0\n",
       "price_change_max_t52_bin_-0.05-0        261.0\n",
       "price_change_max_t52_bin_0.05-0.10      120.0\n",
       "price_change_max_t52_bin_0.10-0.25      137.0\n",
       "price_change_max_t52_bin_0.25++          22.0\n",
       "price_change_mean_t4_bin_--0.25          92.0\n",
       "price_change_mean_t4_bin_-0.25-0.10     175.0\n",
       "price_change_mean_t4_bin_-0.10-0.5      236.0\n",
       "price_change_mean_t4_bin_0.10-0.25      243.0\n",
       "price_change_mean_t4_bin_0.25++          77.0\n",
       "price_change_mean_t13_bin_--0.25        131.0\n",
       "price_change_mean_t13_bin_-0.25-0.10    170.0\n",
       "price_change_mean_t13_bin_0.10-0.25     268.0\n",
       "price_change_mean_t13_bin_0.25++         82.0\n",
       "price_change_mean_t26_bin_--0.25        129.0\n",
       "price_change_mean_t26_bin_-0.25-0.10    126.0\n",
       "price_change_mean_t26_bin_-0.10-0.5     276.0\n",
       "price_change_mean_t26_bin_0.10-0.25     176.0\n",
       "price_change_mean_t26_bin_0.25++         44.0\n",
       "price_change_mean_t52_bin_--0.25        103.0\n",
       "price_change_mean_t52_bin_-0.25-0.10    145.0\n",
       "price_change_mean_t52_bin_-0.10-0.5     265.0\n",
       "price_change_mean_t52_bin_0.10-0.25     216.0\n",
       "price_change_mean_t52_bin_0.25++         58.0\n",
       "p_parameter                               0.0\n",
       "i_parameter                               0.0\n",
       "q_parameter                               0.0\n",
       "dtype: float64"
      ]
     },
     "execution_count": 98,
     "metadata": {},
     "output_type": "execute_result"
    }
   ],
   "source": [
    "#least used variables.\n",
    "variables_used[variables_used < 300]"
   ]
  },
  {
   "cell_type": "markdown",
   "metadata": {},
   "source": [
    "We did not save the used 'p', 'i' and 'q' parameter in our summary.\n",
    "We can see that we used all the variables that we construct. However, some variables, especially the ones related to price change, were used in less than one percent of the models.\n",
    "\n",
    "On the other hand, the most used variables were variables related to time and the mean of the lagged demand. \n",
    "Here we have another problem. Both kind of variables already are considered in the ARIMA model. \n",
    "In general, the mean of the lagged demand does not necessary imply in a problem because we avoided using a 'q' parameter greater than 20. Nonetheless, several variables related to time were used, this could had created a correlation problem in our models. In the construction of our models, we guarantee that none of the exoneous variables were correlated among them, but we did not verify if we had some problem between the exogenous variables and the 'p' paramer of our ARIMA model. "
   ]
  }
 ],
 "metadata": {
  "kernelspec": {
   "display_name": "Python 3",
   "language": "python",
   "name": "python3"
  },
  "language_info": {
   "codemirror_mode": {
    "name": "ipython",
    "version": 3
   },
   "file_extension": ".py",
   "mimetype": "text/x-python",
   "name": "python",
   "nbconvert_exporter": "python",
   "pygments_lexer": "ipython3",
   "version": "3.7.4"
  }
 },
 "nbformat": 4,
 "nbformat_minor": 2
}
